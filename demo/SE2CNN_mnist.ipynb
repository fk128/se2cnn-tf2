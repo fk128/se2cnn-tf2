{
  "nbformat": 4,
  "nbformat_minor": 0,
  "metadata": {
    "colab": {
      "name": "SE2CNN.ipynb",
      "provenance": [],
      "collapsed_sections": []
    },
    "kernelspec": {
      "name": "python3",
      "display_name": "Python 3"
    }
  },
  "cells": [
    {
      "cell_type": "code",
      "metadata": {
        "id": "Pw5iUE5s8Ozb"
      },
      "source": [
        "import tensorflow as tf\n",
        "from tensorflow.keras import layers\n",
        "import numpy as np\n",
        "\n",
        "from matplotlib import pyplot as plt\n",
        "\n",
        "import os,sys\n",
        "se2cnn_source =  os.path.join(os.getcwd(),'..')\n",
        "if se2cnn_source not in sys.path:\n",
        "    sys.path.append(se2cnn_source)\n",
        "\n",
        "from se2cnn.layers import LiftingLayer, SE2Layer, ConcatOrientation"
      ],
      "execution_count": 1,
      "outputs": []
    },
    {
      "cell_type": "code",
      "metadata": {
        "id": "MH9E8ODl2eCi"
      },
      "source": [
        " gpus = tf.config.experimental.list_physical_devices('GPU')\n",
        "if gpus:\n",
        "  try:\n",
        "    # Currently, memory growth needs to be the same across GPUs\n",
        "    for gpu in gpus:\n",
        "      tf.config.experimental.set_memory_growth(gpu, True)\n",
        "    logical_gpus = tf.config.experimental.list_logical_devices('GPU')\n",
        "  except RuntimeError as e:\n",
        "    # Memory growth must be set before GPUs have been initialized\n",
        "    print(e)"
      ],
      "execution_count": 2,
      "outputs": []
    },
    {
      "cell_type": "code",
      "metadata": {
        "id": "cNbMn3ra0jAT"
      },
      "source": [
        ""
      ],
      "execution_count": 2,
      "outputs": []
    },
    {
      "cell_type": "markdown",
      "metadata": {
        "id": "RSTTa6lhDkwC"
      },
      "source": [
        "## Load mnist data"
      ]
    },
    {
      "cell_type": "code",
      "metadata": {
        "colab": {
          "base_uri": "https://localhost:8080/"
        },
        "id": "eP-VvCsjEQHJ",
        "outputId": "d37925d9-0127-4f36-c9fb-239f8af28bf1"
      },
      "source": [
        "# Model / data parameters\n",
        "num_classes = 10\n",
        "input_shape = (28, 28, 1)\n",
        "\n",
        "# the data, split between train and test sets\n",
        "(x_train, y_train), (x_test, y_test) = tf.keras.datasets.mnist.load_data()\n",
        "\n",
        "# Scale images to the [0, 1] range\n",
        "x_train = x_train.astype(\"float32\") / 255\n",
        "x_test = x_test.astype(\"float32\") / 255\n",
        "# Make sure images have shape (28, 28, 1)\n",
        "x_train = np.expand_dims(x_train, -1)\n",
        "x_test = np.expand_dims(x_test, -1)\n",
        "print(\"x_train shape:\", x_train.shape)\n",
        "print(x_train.shape[0], \"train samples\")\n",
        "print(x_test.shape[0], \"test samples\")\n",
        "\n",
        "\n",
        "# convert class vectors to binary class matrices\n",
        "y_train = tf.keras.utils.to_categorical(y_train, num_classes)\n",
        "y_test = tf.keras.utils.to_categorical(y_test, num_classes)"
      ],
      "execution_count": 3,
      "outputs": [
        {
          "output_type": "stream",
          "text": [
            "x_train shape: (60000, 28, 28, 1)\n",
            "60000 train samples\n",
            "10000 test samples\n"
          ],
          "name": "stdout"
        }
      ]
    },
    {
      "cell_type": "markdown",
      "metadata": {
        "id": "JQ09hAtDDpKh"
      },
      "source": [
        "## Setup model"
      ]
    },
    {
      "cell_type": "code",
      "metadata": {
        "id": "ieyexkCCiT4M"
      },
      "source": [
        "n_theta = 4"
      ],
      "execution_count": 4,
      "outputs": []
    },
    {
      "cell_type": "code",
      "metadata": {
        "colab": {
          "base_uri": "https://localhost:8080/"
        },
        "id": "dvDwV0nFFDSY",
        "outputId": "2bcf6426-70b7-4c25-aee8-a37ced28c41b"
      },
      "source": [
        "model = tf.keras.Sequential(\n",
        "    [\n",
        "        layers.Input(shape=input_shape),\n",
        "        LiftingLayer(16,5, n_theta=n_theta, strides=(1,1,1,1), activation=\"relu\", name='lifting', use_bias=False),\n",
        "        SE2Layer(32,5, n_theta=n_theta, strides=(1,2,2,1), activation=\"relu\", name='se2', use_bias=False),\n",
        "        ConcatOrientation(),\n",
        "        layers.Conv2D(64, kernel_size=(3, 3), activation=\"relu\", groups=2),\n",
        "        layers.MaxPooling2D(pool_size=(2, 2)),\n",
        "        layers.Flatten(),\n",
        "        layers.Dropout(0.5),\n",
        "        layers.Dense(num_classes, activation=\"softmax\"),\n",
        "    ]\n",
        ")\n",
        "model.summary()"
      ],
      "execution_count": 5,
      "outputs": [
        {
          "output_type": "stream",
          "text": [
            "Model: \"sequential\"\n",
            "_________________________________________________________________\n",
            "Layer (type)                 Output Shape              Param #   \n",
            "=================================================================\n",
            "lifting (LiftingLayer)       (None, 24, 24, 4, 16)     400       \n",
            "_________________________________________________________________\n",
            "se2 (SE2Layer)               (None, 10, 10, 4, 32)     51200     \n",
            "_________________________________________________________________\n",
            "concat_orientation (ConcatOr (None, 10, 10, 128)       0         \n",
            "_________________________________________________________________\n",
            "conv2d (Conv2D)              (None, 8, 8, 64)          36928     \n",
            "_________________________________________________________________\n",
            "max_pooling2d (MaxPooling2D) (None, 4, 4, 64)          0         \n",
            "_________________________________________________________________\n",
            "flatten (Flatten)            (None, 1024)              0         \n",
            "_________________________________________________________________\n",
            "dropout (Dropout)            (None, 1024)              0         \n",
            "_________________________________________________________________\n",
            "dense (Dense)                (None, 10)                10250     \n",
            "=================================================================\n",
            "Total params: 98,778\n",
            "Trainable params: 98,778\n",
            "Non-trainable params: 0\n",
            "_________________________________________________________________\n"
          ],
          "name": "stdout"
        }
      ]
    },
    {
      "cell_type": "markdown",
      "metadata": {
        "id": "8UBw6mSPDuxE"
      },
      "source": [
        "## Train"
      ]
    },
    {
      "cell_type": "code",
      "metadata": {
        "colab": {
          "base_uri": "https://localhost:8080/"
        },
        "id": "IjEeb_1AOLW0",
        "outputId": "f85a84e3-364b-4c9f-eb53-33491b044a02"
      },
      "source": [
        "epochs = 5\n",
        "batch_size = 128\n",
        "\n",
        "model.compile(loss=\"categorical_crossentropy\", optimizer=\"adam\", metrics=[\"accuracy\"])\n",
        "\n",
        "model.fit(x_train, y_train, batch_size=batch_size, epochs=epochs, validation_split=0.1)"
      ],
      "execution_count": 6,
      "outputs": [
        {
          "output_type": "stream",
          "text": [
            "Epoch 1/5\n",
            "422/422 [==============================] - 6s 10ms/step - loss: 0.6240 - accuracy: 0.7902 - val_loss: 0.0568 - val_accuracy: 0.9838\n",
            "Epoch 2/5\n",
            "422/422 [==============================] - 4s 9ms/step - loss: 0.0939 - accuracy: 0.9721 - val_loss: 0.0394 - val_accuracy: 0.9897\n",
            "Epoch 3/5\n",
            "422/422 [==============================] - 3s 8ms/step - loss: 0.0626 - accuracy: 0.9800 - val_loss: 0.0317 - val_accuracy: 0.9913\n",
            "Epoch 4/5\n",
            "422/422 [==============================] - 3s 8ms/step - loss: 0.0474 - accuracy: 0.9855 - val_loss: 0.0326 - val_accuracy: 0.9908\n",
            "Epoch 5/5\n",
            "422/422 [==============================] - 3s 8ms/step - loss: 0.0413 - accuracy: 0.9862 - val_loss: 0.0293 - val_accuracy: 0.9920\n"
          ],
          "name": "stdout"
        },
        {
          "output_type": "execute_result",
          "data": {
            "text/plain": [
              "<tensorflow.python.keras.callbacks.History at 0x7fc8d829ad30>"
            ]
          },
          "metadata": {
            "tags": []
          },
          "execution_count": 6
        }
      ]
    },
    {
      "cell_type": "markdown",
      "metadata": {
        "id": "fJPOklA6D07E"
      },
      "source": [
        "## Evaluate"
      ]
    },
    {
      "cell_type": "code",
      "metadata": {
        "colab": {
          "base_uri": "https://localhost:8080/"
        },
        "id": "rh4qC7ALQQf8",
        "outputId": "47ea5a21-95ce-41d1-f813-9046edd26f77"
      },
      "source": [
        "score = model.evaluate(x_test, y_test, verbose=0)\n",
        "print(\"Test loss:\", score[0])\n",
        "print(\"Test accuracy:\", score[1])"
      ],
      "execution_count": 7,
      "outputs": [
        {
          "output_type": "stream",
          "text": [
            "Test loss: 0.022170662879943848\n",
            "Test accuracy: 0.9922999739646912\n"
          ],
          "name": "stdout"
        }
      ]
    },
    {
      "cell_type": "markdown",
      "metadata": {
        "id": "7izQvAuEhtR3"
      },
      "source": [
        "## Inspect kernels\n"
      ]
    },
    {
      "cell_type": "code",
      "metadata": {
        "colab": {
          "base_uri": "https://localhost:8080/",
          "height": 302
        },
        "id": "-jfsplWbV7dS",
        "outputId": "83912cbc-73e2-43cf-a344-96d0356d220e"
      },
      "source": [
        "random_input = np.random.rand(1,9,9,1) #+ x_train[0:1]\n",
        "\n",
        "# And a 90 degree counter clock-wise rotated version\n",
        "random_input_90 = np.transpose(np.flip(random_input,2),[0,2,1,3])\n",
        "\n",
        "#Plot\n",
        "f,axs = plt.subplots(1,2,figsize=(10,10))\n",
        "plt.subplot(1,2,1)\n",
        "plt.imshow(random_input[0,:,:,0])\n",
        "plt.subplot(1,2,2)\n",
        "plt.imshow(random_input_90[0,:,:,0])\n",
        "plt.show()\n",
        "\n"
      ],
      "execution_count": 8,
      "outputs": [
        {
          "output_type": "display_data",
          "data": {
            "text/plain": [
              "<Figure size 720x720 with 2 Axes>"
            ],
            "image/png": "[encoded data removed]"
          },
          "metadata": {
            "tags": [],
            "needs_background": "light"
          }
        }
      ]
    },
    {
      "cell_type": "code",
      "metadata": {
        "id": "d_o_MlEvhu4O"
      },
      "source": [
        "lifting_layer = model.get_layer('lifting')\n",
        "se2_layer = model.get_layer('se2')\n",
        "\n",
        "lifting_layer = LiftingLayer(1,5, n_theta=n_theta, strides=(1,1,1,1), activation=None, name='lifting', use_bias=False, disk_mask=False)\n",
        "se2_layer = SE2Layer(1,5, n_theta=n_theta, strides=(1,2,2,1), activation=None, name='se2', use_bias=False, disk_mask=False)"
      ],
      "execution_count": 9,
      "outputs": []
    },
    {
      "cell_type": "code",
      "metadata": {
        "id": "mqmSOamXGgoZ"
      },
      "source": [
        "t_lifted = lifting_layer(random_input)\n",
        "t_lifted_90 = lifting_layer(random_input_90)\n",
        "\n",
        "t_lifted_2 = se2_layer(lifting_layer(random_input))\n",
        "t_lifted_2_90 = se2_layer(lifting_layer(random_input_90))"
      ],
      "execution_count": 10,
      "outputs": []
    },
    {
      "cell_type": "code",
      "metadata": {
        "id": "dGRsewCOiKmU"
      },
      "source": [
        "_, lifting_k = lifting_layer.rotate_kernel()\n",
        "_, gconv_k = se2_layer.rotate_kernel()"
      ],
      "execution_count": 11,
      "outputs": []
    },
    {
      "cell_type": "code",
      "metadata": {
        "id": "_Udilch2G8Hv"
      },
      "source": [
        ""
      ],
      "execution_count": 11,
      "outputs": []
    },
    {
      "cell_type": "code",
      "metadata": {
        "colab": {
          "base_uri": "https://localhost:8080/",
          "height": 247
        },
        "id": "qeqbUpQOiCVt",
        "outputId": "73e654d6-cb26-4ea0-a256-113507f5931a"
      },
      "source": [
        "plt.subplots(1,n_theta,figsize=(15,15))\n",
        "for i in range(n_theta):\n",
        "    plt.subplot(1,n_theta,i+1)\n",
        "    plt.imshow(lifting_k[i,:,:,0,0])\n",
        "plt.show()\n",
        "\n",
        "print( 'Rotated versions of the lifting kernels')"
      ],
      "execution_count": 12,
      "outputs": [
        {
          "output_type": "display_data",
          "data": {
            "text/plain": [
              "<Figure size 1080x1080 with 4 Axes>"
            ],
            "image/png": "[encoded data removed]"
          },
          "metadata": {
            "tags": [],
            "needs_background": "light"
          }
        },
        {
          "output_type": "stream",
          "text": [
            "Rotated versions of the lifting kernels\n"
          ],
          "name": "stdout"
        }
      ]
    },
    {
      "cell_type": "code",
      "metadata": {
        "colab": {
          "base_uri": "https://localhost:8080/",
          "height": 886
        },
        "id": "iin56jUniJtd",
        "outputId": "68f9849d-05b6-4838-b87f-2573a70876dc"
      },
      "source": [
        "for rot in range(n_theta):\n",
        "    plt.show()\n",
        "    plt.subplots(1,n_theta,figsize=(15,15))\n",
        "    for i in range(n_theta):\n",
        "        plt.subplot(1,n_theta,i+1)\n",
        "        plt.imshow(gconv_k[rot,:,:,i,0,0])\n",
        "    plt.show()\n",
        "print( 'Each row is a rotated version of an se2 kernel (planar rotation + shift in theta direction)')"
      ],
      "execution_count": 13,
      "outputs": [
        {
          "output_type": "display_data",
          "data": {
            "text/plain": [
              "<Figure size 1080x1080 with 4 Axes>"
            ],
            "image/png": "[encoded data removed]"
          },
          "metadata": {
            "tags": [],
            "needs_background": "light"
          }
        },
        {
          "output_type": "display_data",
          "data": {
            "text/plain": [
              "<Figure size 1080x1080 with 4 Axes>"
            ],
            "image/png": "[encoded data removed]"
          },
          "metadata": {
            "tags": [],
            "needs_background": "light"
          }
        },
        {
          "output_type": "display_data",
          "data": {
            "text/plain": [
              "<Figure size 1080x1080 with 4 Axes>"
            ],
            "image/png": "[encoded data removed]"
          },
          "metadata": {
            "tags": [],
            "needs_background": "light"
          }
        },
        {
          "output_type": "display_data",
          "data": {
            "text/plain": [
              "<Figure size 1080x1080 with 4 Axes>"
            ],
            "image/png": "[encoded data removed]"
          },
          "metadata": {
            "tags": [],
            "needs_background": "light"
          }
        },
        {
          "output_type": "stream",
          "text": [
            "Each row is a rotated version of an se2 kernel (planar rotation + shift in theta direction)\n"
          ],
          "name": "stdout"
        }
      ]
    },
    {
      "cell_type": "markdown",
      "metadata": {
        "id": "qcIKBKdrjOgX"
      },
      "source": [
        "### Check covariance of the lifting layer"
      ]
    },
    {
      "cell_type": "code",
      "metadata": {
        "colab": {
          "base_uri": "https://localhost:8080/",
          "height": 477
        },
        "id": "7lg2ZJ3yjDvU",
        "outputId": "f77a3fdd-d5eb-4059-8bbf-b026a2ce3bb4"
      },
      "source": [
        "#Plot\n",
        "plt.subplots(1,n_theta,figsize=(15,15))\n",
        "for i in range(n_theta):\n",
        "    plt.subplot(1,n_theta,i+1)\n",
        "    plt.imshow(t_lifted[0,:,:,i,0])\n",
        "plt.show()\n",
        "print( 'The unrotated input.')\n",
        "plt.subplots(1,n_theta,figsize=(15,15))\n",
        "for i in range(n_theta):\n",
        "    plt.subplot(1,n_theta,i+1)\n",
        "    plt.imshow(t_lifted_90[0,:,:,i,0])\n",
        "plt.show()\n",
        "\n",
        "print( 'The 90-degree rotated input. Notice a shift of n_theta/4 (=90/360*Ntheta) bins and a rotation of 90 of each plane.')"
      ],
      "execution_count": 14,
      "outputs": [
        {
          "output_type": "display_data",
          "data": {
            "text/plain": [
              "<Figure size 1080x1080 with 4 Axes>"
            ],
            "image/png": "[encoded data removed]"
          },
          "metadata": {
            "tags": [],
            "needs_background": "light"
          }
        },
        {
          "output_type": "stream",
          "text": [
            "The unrotated input.\n"
          ],
          "name": "stdout"
        },
        {
          "output_type": "display_data",
          "data": {
            "text/plain": [
              "<Figure size 1080x1080 with 4 Axes>"
            ],
            "image/png": "[encoded data removed]"
          },
          "metadata": {
            "tags": [],
            "needs_background": "light"
          }
        },
        {
          "output_type": "stream",
          "text": [
            "The 90-degree rotated input. Notice a shift of n_theta/4 (=90/360*Ntheta) bins and a rotation of 90 of each plane.\n"
          ],
          "name": "stdout"
        }
      ]
    },
    {
      "cell_type": "code",
      "metadata": {
        "colab": {
          "base_uri": "https://localhost:8080/",
          "height": 281
        },
        "id": "fwdAhorDjVWb",
        "outputId": "583b7a0e-8297-45e8-cb83-94ab815bd5d5"
      },
      "source": [
        "# Simple data to display in various forms\n",
        "#x = np.linspace(0, 2 * np.pi, n_theta)\n",
        "x = np.linspace(0, n_theta, n_theta)\n",
        "y = t_lifted_2[0,0,0,:,0]\n",
        "y_90 = t_lifted_2_90[0,0,0,:,0]\n",
        "y_90_back = np.roll(t_lifted_2_90[0,0,0,:,0],-int(n_theta/4))\n",
        "plt.figure()\n",
        "plt.plot(x, y,'b.-' , label='original')\n",
        "plt.plot(x, y_90, 'gx-', label='90 degree rot response')\n",
        "plt.plot(x, y_90_back,'r--', label='90 degr rot resp shifted back')\n",
        "plt.title('Channel 1 response for each rotation')\n",
        "plt.legend()\n",
        "plt.show()"
      ],
      "execution_count": 15,
      "outputs": [
        {
          "output_type": "display_data",
          "data": {
            "text/plain": [
              "<Figure size 432x288 with 1 Axes>"
            ],
            "image/png": "[encoded data removed]"
          },
          "metadata": {
            "tags": [],
            "needs_background": "light"
          }
        }
      ]
    },
    {
      "cell_type": "code",
      "metadata": {
        "id": "nDSGKaDJkp4z"
      },
      "source": [
        ""
      ],
      "execution_count": 15,
      "outputs": []
    }
  ]
}